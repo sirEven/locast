{
 "cells": [
  {
   "cell_type": "code",
   "execution_count": 1,
   "metadata": {},
   "outputs": [
    {
     "name": "stdout",
     "output_type": "stream",
     "text": [
      "Batch #0 size: 600\n",
      "Candles left: 0\n"
     ]
    },
    {
     "data": {
      "text/plain": [
       "600"
      ]
     },
     "execution_count": 1,
     "metadata": {},
     "output_type": "execute_result"
    }
   ],
   "source": [
    "from locast.candle_fetcher.dydx.api_fetcher.dydx_v4_fetcher import DydxV4Fetcher\n",
    "from locast.candle.dydx.dydx_resolution import DydxResolution\n",
    "from locast.candle_fetcher.dydx.candle_fetcher.dydx_v4_candle_fetcher import (\n",
    "    DydxV4CandleFetcher,\n",
    ")\n",
    "from tests.helper.candle_mockery.v4_indexer_mock import V4IndexerClientMock\n",
    "\n",
    "from sir_utilities.date_time import string_to_datetime  # type: ignore\n",
    "\n",
    "\n",
    "mock_client = V4IndexerClientMock()\n",
    "fetcher = DydxV4CandleFetcher(api_fetcher=DydxV4Fetcher(mock_client))\n",
    "\n",
    "candles = await fetcher.fetch_candles(\n",
    "    \"ETH-USD\",\n",
    "    DydxResolution.ONE_MINUTE,\n",
    "    string_to_datetime(\"2024-01-01T00:00:00.000Z\"),\n",
    "    string_to_datetime(\"2024-01-01T10:00:00.000Z\"),\n",
    ")\n",
    "\n",
    "len(candles)"
   ]
  }
 ],
 "metadata": {
  "kernelspec": {
   "display_name": "locast-2fOHhfUE-py3.11",
   "language": "python",
   "name": "python3"
  },
  "language_info": {
   "codemirror_mode": {
    "name": "ipython",
    "version": 3
   },
   "file_extension": ".py",
   "mimetype": "text/x-python",
   "name": "python",
   "nbconvert_exporter": "python",
   "pygments_lexer": "ipython3",
   "version": "3.11.4"
  }
 },
 "nbformat": 4,
 "nbformat_minor": 2
}
