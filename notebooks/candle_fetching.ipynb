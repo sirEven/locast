{
 "cells": [
  {
   "cell_type": "code",
   "execution_count": null,
   "metadata": {},
   "outputs": [],
   "source": [
    "from datetime import datetime, timezone\n",
    "\n",
    "from sir_utilities.date_time import string_to_datetime\n",
    "\n",
    "from locast.candle.dydx.dydx_resolution import DydxResolution\n",
    "from locast.candle_fetcher.dydx.dydx_v4_candle_fetcher import DydxV4CandleFetcher\n",
    "from locast.candle_fetcher.dydx.fetcher.dydx_v4_fetcher import DydxV4Fetcher\n",
    "\n",
    "\n",
    "LINK_USD = \"LINK-USD\"\n",
    "\n",
    "\n",
    "async def main():\n",
    "    dydx_v4_fetcher = DydxV4Fetcher()\n",
    "    dydx_candle_fetcher = DydxV4CandleFetcher(dydx_v4_fetcher)\n",
    "    candles = await dydx_candle_fetcher.fetch_candles(\n",
    "        LINK_USD,\n",
    "        DydxResolution.ONE_MINUTE.notation,\n",
    "        string_to_datetime(\"2024-05-01T00:00:00.000Z\"),\n",
    "        datetime.now(timezone.utc),  # noqa: F821\n",
    "    )\n",
    "    print(f\"{len(candles)} candles\")\n",
    "    print(f\"Oldest candle started at: {candles[-1].started_at}\")\n",
    "    print(f\"Newest candle started at: {candles[0].started_at}\")\n",
    "\n",
    "\n",
    "await main()"
   ]
  }
 ],
 "metadata": {
  "kernelspec": {
   "display_name": "locast-2fOHhfUE-py3.11",
   "language": "python",
   "name": "python3"
  },
  "language_info": {
   "codemirror_mode": {
    "name": "ipython",
    "version": 3
   },
   "file_extension": ".py",
   "mimetype": "text/x-python",
   "name": "python",
   "nbconvert_exporter": "python",
   "pygments_lexer": "ipython3",
   "version": "3.11.4"
  }
 },
 "nbformat": 4,
 "nbformat_minor": 2
}
