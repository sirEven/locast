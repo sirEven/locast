{
 "cells": [
  {
   "cell_type": "code",
   "execution_count": 5,
   "metadata": {},
   "outputs": [
    {
     "data": {
      "text/plain": [
       "(True, False)"
      ]
     },
     "execution_count": 5,
     "metadata": {},
     "output_type": "execute_result"
    }
   ],
   "source": [
    "from locast.candle.exchange import Exchange\n",
    "from tests.helper.candle_mockery.mock_candle import mock_candle\n",
    "\n",
    "\n",
    "candle_1 = mock_candle(Exchange.DYDX_V4)\n",
    "candle_2 = mock_candle(Exchange.DYDX_V4)\n",
    "candle_3 = mock_candle(Exchange.DYDX)\n",
    "\n",
    "first = candle_1 == candle_2\n",
    "second = candle_1 == candle_3\n",
    "\n",
    "first, second"
   ]
  }
 ],
 "metadata": {
  "kernelspec": {
   "display_name": ".venv",
   "language": "python",
   "name": "python3"
  },
  "language_info": {
   "codemirror_mode": {
    "name": "ipython",
    "version": 3
   },
   "file_extension": ".py",
   "mimetype": "text/x-python",
   "name": "python",
   "nbconvert_exporter": "python",
   "pygments_lexer": "ipython3",
   "version": "3.11.4"
  }
 },
 "nbformat": 4,
 "nbformat_minor": 2
}
