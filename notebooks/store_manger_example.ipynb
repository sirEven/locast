{
 "cells": [
  {
   "cell_type": "code",
   "execution_count": 5,
   "metadata": {},
   "outputs": [
    {
     "name": "stdout",
     "output_type": "stream",
     "text": [
      "Batch #0 size: 283\n",
      "Candles left: 0\n",
      "Batch #0 size: 283\n",
      "Candles left: 0\n",
      "ETH candles: 10293.\n",
      "BTC candles: 10293.\n"
     ]
    }
   ],
   "source": [
    "from datetime import timedelta\n",
    "\n",
    "from dydx_v4_client.indexer.rest.indexer_client import IndexerClient  # type: ignore\n",
    "from dydx_v4_client.network import make_mainnet  # type: ignore\n",
    "from sqlalchemy import create_engine  # type: ignore\n",
    "\n",
    "\n",
    "from locast.candle_fetcher.dydx.api_fetcher.dydx_v4_fetcher import DydxV4Fetcher\n",
    "from locast.candle_fetcher.dydx.candle_fetcher.dydx_v4_candle_fetcher import (\n",
    "    DydxV4CandleFetcher,\n",
    ")\n",
    "from locast.store_manager.store_manager import StoreManager\n",
    "\n",
    "from locast.candle.candle_utility import CandleUtility as cu\n",
    "from locast.candle.dydx.dydx_resolution import DydxResolution\n",
    "from locast.candle.exchange import Exchange\n",
    "from locast.candle_storage.sql.sqlite_candle_storage import SqliteCandleStorage\n",
    "\n",
    "MAINNET = make_mainnet(  # type: ignore\n",
    "    rest_indexer=\"https://indexer.dydx.trade/\",\n",
    "    websocket_indexer=\"wss://indexer.dydx.trade/v4/ws\",\n",
    "    node_url=\"dydx-ops-rpc.kingnodes.com:443\",\n",
    ")\n",
    "\n",
    "\n",
    "async def dydx_v4_example() -> None:\n",
    "    # Create store manager\n",
    "    storage = SqliteCandleStorage(create_engine(\"sqlite:///locast.db\"))  # type: ignore\n",
    "    fetcher = DydxV4CandleFetcher(DydxV4Fetcher(IndexerClient(MAINNET.rest_indexer)))  # type: ignore\n",
    "    manager = StoreManager(candle_fetcher=fetcher, candle_storage=storage)\n",
    "\n",
    "    # Define desired candle cluster parameters for eth and btc\n",
    "    exchange = Exchange.DYDX_V4\n",
    "    resolution = DydxResolution.ONE_MINUTE\n",
    "    eth = \"ETH-USD\"\n",
    "    btc = \"BTC-USD\"\n",
    "\n",
    "    # Define start date for candle cluster creation\n",
    "    now = cu.normalized_now(resolution)  # Now, rounded down to nearest resolution tick\n",
    "    start_date = now - timedelta(seconds=resolution.seconds * 10000)  # 10K candles back\n",
    "\n",
    "    # Check for existing clusters\n",
    "    eth_info = await storage.get_cluster_info(exchange, eth, resolution)\n",
    "    btc_info = await storage.get_cluster_info(exchange, btc, resolution)\n",
    "\n",
    "    # If clusters not present, create (download from exchange & store in database)\n",
    "    if not eth_info.head:\n",
    "        await manager.create_cluster(eth, resolution, start_date)\n",
    "    if not btc_info.head:\n",
    "        await manager.create_cluster(btc, resolution, start_date)\n",
    "\n",
    "    # Check if clusters are up to date and update if not\n",
    "    if not eth_info.is_uptodate:\n",
    "        await manager.update_cluster(exchange, eth, resolution)\n",
    "    if not btc_info.is_uptodate:\n",
    "        await manager.update_cluster(exchange, btc, resolution)\n",
    "\n",
    "    eth_info = await storage.get_cluster_info(exchange, eth, resolution)\n",
    "    btc_info = await storage.get_cluster_info(exchange, btc, resolution)\n",
    "\n",
    "    print(f\"ETH candles: {eth_info.amount}.\")\n",
    "    print(f\"BTC candles: {btc_info.amount}.\")\n",
    "\n",
    "\n",
    "await dydx_v4_example()"
   ]
  }
 ],
 "metadata": {
  "kernelspec": {
   "display_name": "locast-2fOHhfUE-py3.11",
   "language": "python",
   "name": "python3"
  },
  "language_info": {
   "codemirror_mode": {
    "name": "ipython",
    "version": 3
   },
   "file_extension": ".py",
   "mimetype": "text/x-python",
   "name": "python",
   "nbconvert_exporter": "python",
   "pygments_lexer": "ipython3",
   "version": "3.11.4"
  }
 },
 "nbformat": 4,
 "nbformat_minor": 2
}
